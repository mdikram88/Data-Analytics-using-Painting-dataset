{
 "cells": [
  {
   "cell_type": "markdown",
   "id": "474af45f-b2f1-4510-8f80-981f36c8e65a",
   "metadata": {},
   "source": [
    "<h1>Installing Required packages</h1>"
   ]
  },
  {
   "cell_type": "code",
   "execution_count": 121,
   "id": "04a30807-f518-41e2-af91-bfdc6926700a",
   "metadata": {},
   "outputs": [],
   "source": [
    "# !pip install psycopg2 --user"
   ]
  },
  {
   "cell_type": "markdown",
   "id": "a1fd1ff7-551f-44a9-aafc-d78b0f113ab7",
   "metadata": {},
   "source": [
    "<h2>Importing Essential modules</h2>"
   ]
  },
  {
   "cell_type": "code",
   "execution_count": 200,
   "id": "c3b4b53e-1be6-41ba-9a91-4306c6efe7ad",
   "metadata": {},
   "outputs": [],
   "source": [
    "import psycopg2\n",
    "import os\n",
    "import pandas as pd\n",
    "import numpy as np"
   ]
  },
  {
   "cell_type": "markdown",
   "id": "2ac6d38f-88e3-4568-93e9-a0cbf379a84b",
   "metadata": {},
   "source": [
    "<h3>Connecting Database</h3>"
   ]
  },
  {
   "cell_type": "code",
   "execution_count": 123,
   "id": "48988d89-2299-4268-91a4-d1f50aca5f8a",
   "metadata": {},
   "outputs": [],
   "source": [
    "host=\"localhost\"\n",
    "user=\"postgres\"\n",
    "password = \"PoZameer88@$\"\n",
    "port=\"5432\"\n",
    "\n",
    "new_database_name = \"painting\""
   ]
  },
  {
   "cell_type": "code",
   "execution_count": 124,
   "id": "fe79ce66-b2cc-469f-b6aa-17519669e2bd",
   "metadata": {},
   "outputs": [],
   "source": [
    "conn = psycopg2.connect(host=host, user=user, password=password, port=port, dbname=\"postgres\")\n",
    "conn.autocommit=True"
   ]
  },
  {
   "cell_type": "code",
   "execution_count": 125,
   "id": "aeb338fd-91da-4c3c-b1af-e5fa9b4d26d9",
   "metadata": {},
   "outputs": [],
   "source": [
    "cursor = conn.cursor()"
   ]
  },
  {
   "cell_type": "markdown",
   "id": "2f6e0fef-205d-4a0d-8d43-ad5ab5a29e8a",
   "metadata": {},
   "source": [
    "<h5>Finding and printing current database names</h5>"
   ]
  },
  {
   "cell_type": "code",
   "execution_count": 126,
   "id": "3ae9fbec-dd6f-41e0-8b74-d7e3a29cd27f",
   "metadata": {},
   "outputs": [],
   "source": [
    "cursor.execute(\"SELECT datname FROM pg_database WHERE datistemplate = false;\")"
   ]
  },
  {
   "cell_type": "code",
   "execution_count": 127,
   "id": "825938a1-7600-4e85-b83d-54a1a57cbf34",
   "metadata": {},
   "outputs": [],
   "source": [
    "databases = cursor.fetchall()"
   ]
  },
  {
   "cell_type": "code",
   "execution_count": 128,
   "id": "3e548d2d-02b6-4b7f-8e5e-efd8ddd74730",
   "metadata": {},
   "outputs": [
    {
     "name": "stdout",
     "output_type": "stream",
     "text": [
      "Databases: postgres, flis, uni, lis, painting, "
     ]
    }
   ],
   "source": [
    "print(\"Databases:\", end=\" \")\n",
    "for db in databases:\n",
    "    print(db[0], end=\", \")"
   ]
  },
  {
   "cell_type": "markdown",
   "id": "fb3fea41-0921-4d15-bbf7-08a34c24ddff",
   "metadata": {},
   "source": [
    "<h3>Creating a new database named \"painting\" if it doesn't exists</h3>"
   ]
  },
  {
   "cell_type": "code",
   "execution_count": 129,
   "id": "708b68bf-6240-4f1c-a716-585165f3bb6b",
   "metadata": {},
   "outputs": [
    {
     "name": "stdout",
     "output_type": "stream",
     "text": [
      "Database 'painting' already exists.\n"
     ]
    }
   ],
   "source": [
    "from psycopg2 import sql\n",
    "cursor.execute(f\"SELECT 1 FROM pg_database WHERE datname = '{new_database_name}'\")\n",
    "exists = cursor.fetchone()\n",
    "\n",
    "if not exists:\n",
    "    cursor.execute(sql.SQL(f\"CREATE DATABASE {new_database_name}\"))\n",
    "    print(f\"Database '{new_database_name}' created successfully.\")\n",
    "    \n",
    "else:\n",
    "    print(f\"Database '{new_database_name}' already exists.\")\n",
    "\n",
    "\n",
    "cursor.close()\n",
    "conn.close()"
   ]
  },
  {
   "cell_type": "markdown",
   "id": "9f3965bb-0141-4010-973e-26773d53bcea",
   "metadata": {},
   "source": [
    "<h4>Getting Filenames of all csv files</h4>"
   ]
  },
  {
   "cell_type": "code",
   "execution_count": 224,
   "id": "90bc17c5-8e56-459f-ac76-936a3edd9fa6",
   "metadata": {},
   "outputs": [
    {
     "data": {
      "text/plain": [
       "'C:/Users/ikram/OneDrive/Desktop/Painting DA'"
      ]
     },
     "execution_count": 224,
     "metadata": {},
     "output_type": "execute_result"
    }
   ],
   "source": [
    "# The given path is my current file location, Put yours in place, provided \"Data\" directory is at same level\n",
    "current_file_location = \"C:/Users/ikram/OneDrive/Desktop/Painting DA\"\n",
    "current_file_location"
   ]
  },
  {
   "cell_type": "code",
   "execution_count": 131,
   "id": "acc8496d-14d4-48a1-ab41-847abbf06fb6",
   "metadata": {},
   "outputs": [
    {
     "name": "stdout",
     "output_type": "stream",
     "text": [
      "['./artist.csv', './canvas_size.csv', './image_link.csv', './museum.csv', './museum_hours.csv', './product_size.csv', './subject.csv', './work.csv']\n"
     ]
    }
   ],
   "source": [
    "import os\n",
    "\n",
    "os.chdir(current_file_location)\n",
    "os.chdir(\"./Data\")\n",
    "\n",
    "csv_files = []\n",
    "\n",
    "for root, dirs, files in os.walk(\"./\"):\n",
    "    for file in files:\n",
    "        if file.endswith('.csv'):\n",
    "            csv_files.append(os.path.join(root, file))\n",
    "\n",
    "print(csv_files)"
   ]
  },
  {
   "cell_type": "markdown",
   "id": "91e51133-58d8-4f9f-b7af-96d2e657e40f",
   "metadata": {},
   "source": [
    "<h4>Creating a connection to database using sqlalchemy</h4>"
   ]
  },
  {
   "cell_type": "code",
   "execution_count": 134,
   "id": "583ccead-7122-4cfa-9e6d-7bc045189a13",
   "metadata": {},
   "outputs": [],
   "source": [
    "from sqlalchemy import create_engine\n",
    "import urllib.parse\n",
    "\n",
    "encoded_password = urllib.parse.quote_plus(password)\n",
    "db_url = f'postgresql+psycopg2://{user}:{encoded_password}@{host}:{port}/{new_database_name}'\n",
    "engine = create_engine(db_url)\n",
    "\n",
    "connection = engine.connect()"
   ]
  },
  {
   "cell_type": "markdown",
   "id": "d21a160d-5309-4f1b-9902-823cb6bcaa67",
   "metadata": {},
   "source": [
    "<h4>Loading <code>artist</code> csv, checking basic informations and loading in postgreSQL database</h4>"
   ]
  },
  {
   "cell_type": "code",
   "execution_count": 132,
   "id": "a3ff72ec-e52b-4cd2-8c5b-204c0e549714",
   "metadata": {},
   "outputs": [
    {
     "data": {
      "text/plain": [
       "(421, 9)"
      ]
     },
     "execution_count": 132,
     "metadata": {},
     "output_type": "execute_result"
    }
   ],
   "source": [
    "artist = pd.read_csv(csv_files[0])\n",
    "artist.shape"
   ]
  },
  {
   "cell_type": "code",
   "execution_count": 133,
   "id": "ec47b1b5-b3d7-43c9-adda-6e0dc07a0ce1",
   "metadata": {},
   "outputs": [
    {
     "name": "stdout",
     "output_type": "stream",
     "text": [
      "<class 'pandas.core.frame.DataFrame'>\n",
      "RangeIndex: 421 entries, 0 to 420\n",
      "Data columns (total 9 columns):\n",
      " #   Column        Non-Null Count  Dtype \n",
      "---  ------        --------------  ----- \n",
      " 0   artist_id     421 non-null    int64 \n",
      " 1   full_name     421 non-null    object\n",
      " 2   first_name    421 non-null    object\n",
      " 3   middle_names  148 non-null    object\n",
      " 4   last_name     421 non-null    object\n",
      " 5   nationality   421 non-null    object\n",
      " 6   style         421 non-null    object\n",
      " 7   birth         421 non-null    int64 \n",
      " 8   death         421 non-null    int64 \n",
      "dtypes: int64(3), object(6)\n",
      "memory usage: 29.7+ KB\n"
     ]
    }
   ],
   "source": [
    "artist.info()"
   ]
  },
  {
   "cell_type": "code",
   "execution_count": 135,
   "id": "6a9fa755-c363-4467-8dfc-7105c305db31",
   "metadata": {},
   "outputs": [
    {
     "data": {
      "text/plain": [
       "421"
      ]
     },
     "execution_count": 135,
     "metadata": {},
     "output_type": "execute_result"
    }
   ],
   "source": [
    "artist.to_sql(name=\"artist\", con=connection, if_exists=\"replace\", index=False)"
   ]
  },
  {
   "cell_type": "markdown",
   "id": "721915e1-8031-4e72-b309-f04fdd162f4e",
   "metadata": {},
   "source": [
    "<h4>Loading <code>canvas_size</code> csv, checking basic informations and loading in postgreSQL database</h4>"
   ]
  },
  {
   "cell_type": "code",
   "execution_count": 136,
   "id": "080c5012-e0cb-40ad-a738-72b18103ac84",
   "metadata": {},
   "outputs": [
    {
     "data": {
      "text/plain": [
       "(200, 4)"
      ]
     },
     "execution_count": 136,
     "metadata": {},
     "output_type": "execute_result"
    }
   ],
   "source": [
    "canvas_size = pd.read_csv(csv_files[1])\n",
    "canvas_size.shape"
   ]
  },
  {
   "cell_type": "code",
   "execution_count": 137,
   "id": "30ca290d-f1b9-4350-9052-a09388c57f07",
   "metadata": {},
   "outputs": [
    {
     "name": "stdout",
     "output_type": "stream",
     "text": [
      "<class 'pandas.core.frame.DataFrame'>\n",
      "RangeIndex: 200 entries, 0 to 199\n",
      "Data columns (total 4 columns):\n",
      " #   Column   Non-Null Count  Dtype  \n",
      "---  ------   --------------  -----  \n",
      " 0   size_id  200 non-null    int64  \n",
      " 1   width    200 non-null    int64  \n",
      " 2   height   193 non-null    float64\n",
      " 3   label    200 non-null    object \n",
      "dtypes: float64(1), int64(2), object(1)\n",
      "memory usage: 6.4+ KB\n"
     ]
    }
   ],
   "source": [
    "canvas_size.info()"
   ]
  },
  {
   "cell_type": "code",
   "execution_count": 138,
   "id": "66e81544-fcab-436f-83b8-621fa73c84ba",
   "metadata": {},
   "outputs": [
    {
     "data": {
      "text/html": [
       "<div>\n",
       "<style scoped>\n",
       "    .dataframe tbody tr th:only-of-type {\n",
       "        vertical-align: middle;\n",
       "    }\n",
       "\n",
       "    .dataframe tbody tr th {\n",
       "        vertical-align: top;\n",
       "    }\n",
       "\n",
       "    .dataframe thead th {\n",
       "        text-align: right;\n",
       "    }\n",
       "</style>\n",
       "<table border=\"1\" class=\"dataframe\">\n",
       "  <thead>\n",
       "    <tr style=\"text-align: right;\">\n",
       "      <th></th>\n",
       "      <th>size_id</th>\n",
       "      <th>width</th>\n",
       "      <th>height</th>\n",
       "      <th>label</th>\n",
       "    </tr>\n",
       "  </thead>\n",
       "  <tbody>\n",
       "    <tr>\n",
       "      <th>0</th>\n",
       "      <td>20</td>\n",
       "      <td>20</td>\n",
       "      <td>NaN</td>\n",
       "      <td>20\" Long Edge</td>\n",
       "    </tr>\n",
       "    <tr>\n",
       "      <th>1</th>\n",
       "      <td>24</td>\n",
       "      <td>24</td>\n",
       "      <td>NaN</td>\n",
       "      <td>24\" Long Edge</td>\n",
       "    </tr>\n",
       "  </tbody>\n",
       "</table>\n",
       "</div>"
      ],
      "text/plain": [
       "   size_id  width  height          label\n",
       "0       20     20     NaN  20\" Long Edge\n",
       "1       24     24     NaN  24\" Long Edge"
      ]
     },
     "execution_count": 138,
     "metadata": {},
     "output_type": "execute_result"
    }
   ],
   "source": [
    "canvas_size.head(2)"
   ]
  },
  {
   "cell_type": "code",
   "execution_count": 139,
   "id": "e7cadcc8-b024-4482-9384-6a5e8365282b",
   "metadata": {},
   "outputs": [
    {
     "data": {
      "text/plain": [
       "200"
      ]
     },
     "execution_count": 139,
     "metadata": {},
     "output_type": "execute_result"
    }
   ],
   "source": [
    "canvas_size.to_sql(name=\"canvas_size\", con=connection, if_exists=\"replace\", index=False)"
   ]
  },
  {
   "cell_type": "markdown",
   "id": "d745e745-3698-4907-84c1-a667b9bee6e4",
   "metadata": {},
   "source": [
    "<h4>Loading <code>image_links</code> csv, checking basic informations and loading in postgreSQL database</h4>"
   ]
  },
  {
   "cell_type": "code",
   "execution_count": 140,
   "id": "975b0727-7b1d-47b7-866f-34295a673182",
   "metadata": {},
   "outputs": [
    {
     "data": {
      "text/plain": [
       "(14775, 4)"
      ]
     },
     "execution_count": 140,
     "metadata": {},
     "output_type": "execute_result"
    }
   ],
   "source": [
    "image_links = pd.read_csv(csv_files[2])\n",
    "image_links.shape"
   ]
  },
  {
   "cell_type": "code",
   "execution_count": 141,
   "id": "c5d671ed-7ab3-46c5-a174-75a61340483d",
   "metadata": {},
   "outputs": [
    {
     "data": {
      "text/html": [
       "<div>\n",
       "<style scoped>\n",
       "    .dataframe tbody tr th:only-of-type {\n",
       "        vertical-align: middle;\n",
       "    }\n",
       "\n",
       "    .dataframe tbody tr th {\n",
       "        vertical-align: top;\n",
       "    }\n",
       "\n",
       "    .dataframe thead th {\n",
       "        text-align: right;\n",
       "    }\n",
       "</style>\n",
       "<table border=\"1\" class=\"dataframe\">\n",
       "  <thead>\n",
       "    <tr style=\"text-align: right;\">\n",
       "      <th></th>\n",
       "      <th>work_id</th>\n",
       "      <th>url</th>\n",
       "      <th>thumbnail_small_url</th>\n",
       "      <th>thumbnail_large_url</th>\n",
       "    </tr>\n",
       "  </thead>\n",
       "  <tbody>\n",
       "    <tr>\n",
       "      <th>0</th>\n",
       "      <td>181978</td>\n",
       "      <td>https://v5.airtableusercontent.com/v1/15/15/16...</td>\n",
       "      <td>https://v5.airtableusercontent.com/v1/15/15/16...</td>\n",
       "      <td>https://v5.airtableusercontent.com/v1/15/15/16...</td>\n",
       "    </tr>\n",
       "    <tr>\n",
       "      <th>1</th>\n",
       "      <td>173188</td>\n",
       "      <td>https://v5.airtableusercontent.com/v1/15/15/16...</td>\n",
       "      <td>https://v5.airtableusercontent.com/v1/15/15/16...</td>\n",
       "      <td>https://v5.airtableusercontent.com/v1/15/15/16...</td>\n",
       "    </tr>\n",
       "  </tbody>\n",
       "</table>\n",
       "</div>"
      ],
      "text/plain": [
       "   work_id                                                url  \\\n",
       "0   181978  https://v5.airtableusercontent.com/v1/15/15/16...   \n",
       "1   173188  https://v5.airtableusercontent.com/v1/15/15/16...   \n",
       "\n",
       "                                 thumbnail_small_url  \\\n",
       "0  https://v5.airtableusercontent.com/v1/15/15/16...   \n",
       "1  https://v5.airtableusercontent.com/v1/15/15/16...   \n",
       "\n",
       "                                 thumbnail_large_url  \n",
       "0  https://v5.airtableusercontent.com/v1/15/15/16...  \n",
       "1  https://v5.airtableusercontent.com/v1/15/15/16...  "
      ]
     },
     "execution_count": 141,
     "metadata": {},
     "output_type": "execute_result"
    }
   ],
   "source": [
    "image_links.head(2)"
   ]
  },
  {
   "cell_type": "code",
   "execution_count": 142,
   "id": "14212c00-6e80-4cfa-8245-88c8272ce1a4",
   "metadata": {},
   "outputs": [
    {
     "name": "stdout",
     "output_type": "stream",
     "text": [
      "<class 'pandas.core.frame.DataFrame'>\n",
      "RangeIndex: 14775 entries, 0 to 14774\n",
      "Data columns (total 4 columns):\n",
      " #   Column               Non-Null Count  Dtype \n",
      "---  ------               --------------  ----- \n",
      " 0   work_id              14775 non-null  int64 \n",
      " 1   url                  14775 non-null  object\n",
      " 2   thumbnail_small_url  14773 non-null  object\n",
      " 3   thumbnail_large_url  14773 non-null  object\n",
      "dtypes: int64(1), object(3)\n",
      "memory usage: 461.8+ KB\n"
     ]
    }
   ],
   "source": [
    "image_links.info()"
   ]
  },
  {
   "cell_type": "code",
   "execution_count": 143,
   "id": "b0956148-0429-4ac1-8045-1c7ff9c85842",
   "metadata": {},
   "outputs": [
    {
     "data": {
      "text/plain": [
       "775"
      ]
     },
     "execution_count": 143,
     "metadata": {},
     "output_type": "execute_result"
    }
   ],
   "source": [
    "image_links.to_sql(name=\"image_links\", con=connection, if_exists=\"replace\", index=False)"
   ]
  },
  {
   "cell_type": "markdown",
   "id": "db28f7de-f634-495b-82f2-18778dc0a5a4",
   "metadata": {},
   "source": [
    "<h4>Loading <code>museum</code> csv, checking basic informations and loading in postgreSQL database</h4>"
   ]
  },
  {
   "cell_type": "code",
   "execution_count": 144,
   "id": "27b7fa06-c7f7-4270-8c87-1112e3a6ad0a",
   "metadata": {},
   "outputs": [
    {
     "data": {
      "text/plain": [
       "(57, 9)"
      ]
     },
     "execution_count": 144,
     "metadata": {},
     "output_type": "execute_result"
    }
   ],
   "source": [
    "museum = pd.read_csv(csv_files[3])\n",
    "museum.shape"
   ]
  },
  {
   "cell_type": "code",
   "execution_count": 145,
   "id": "9ff98dae-95cb-4971-94e4-861e591b09de",
   "metadata": {},
   "outputs": [
    {
     "data": {
      "text/html": [
       "<div>\n",
       "<style scoped>\n",
       "    .dataframe tbody tr th:only-of-type {\n",
       "        vertical-align: middle;\n",
       "    }\n",
       "\n",
       "    .dataframe tbody tr th {\n",
       "        vertical-align: top;\n",
       "    }\n",
       "\n",
       "    .dataframe thead th {\n",
       "        text-align: right;\n",
       "    }\n",
       "</style>\n",
       "<table border=\"1\" class=\"dataframe\">\n",
       "  <thead>\n",
       "    <tr style=\"text-align: right;\">\n",
       "      <th></th>\n",
       "      <th>museum_id</th>\n",
       "      <th>name</th>\n",
       "      <th>address</th>\n",
       "      <th>city</th>\n",
       "      <th>state</th>\n",
       "      <th>postal</th>\n",
       "      <th>country</th>\n",
       "      <th>phone</th>\n",
       "      <th>url</th>\n",
       "    </tr>\n",
       "  </thead>\n",
       "  <tbody>\n",
       "    <tr>\n",
       "      <th>0</th>\n",
       "      <td>30</td>\n",
       "      <td>The Museum of Modern Art</td>\n",
       "      <td>11 W 53rd St</td>\n",
       "      <td>New York</td>\n",
       "      <td>NY</td>\n",
       "      <td>10019</td>\n",
       "      <td>USA</td>\n",
       "      <td>+1 212 708-9400</td>\n",
       "      <td>https://www.moma.org/</td>\n",
       "    </tr>\n",
       "    <tr>\n",
       "      <th>1</th>\n",
       "      <td>31</td>\n",
       "      <td>Pushkin State Museum of Fine Arts</td>\n",
       "      <td>12 Ulitsa Volkhonka</td>\n",
       "      <td>Moscow</td>\n",
       "      <td>NaN</td>\n",
       "      <td>119019</td>\n",
       "      <td>Russia</td>\n",
       "      <td>+7 495 697-95-78</td>\n",
       "      <td>https://pushkinmuseum.art/</td>\n",
       "    </tr>\n",
       "  </tbody>\n",
       "</table>\n",
       "</div>"
      ],
      "text/plain": [
       "   museum_id                               name              address  \\\n",
       "0         30           The Museum of Modern Art         11 W 53rd St   \n",
       "1         31  Pushkin State Museum of Fine Arts  12 Ulitsa Volkhonka   \n",
       "\n",
       "       city state  postal country             phone  \\\n",
       "0  New York    NY   10019     USA   +1 212 708-9400   \n",
       "1    Moscow   NaN  119019  Russia  +7 495 697-95-78   \n",
       "\n",
       "                          url  \n",
       "0       https://www.moma.org/  \n",
       "1  https://pushkinmuseum.art/  "
      ]
     },
     "execution_count": 145,
     "metadata": {},
     "output_type": "execute_result"
    }
   ],
   "source": [
    "museum.head(2)"
   ]
  },
  {
   "cell_type": "code",
   "execution_count": 146,
   "id": "1347e858-4bcc-4580-b8b9-cab4715cf218",
   "metadata": {},
   "outputs": [
    {
     "name": "stdout",
     "output_type": "stream",
     "text": [
      "<class 'pandas.core.frame.DataFrame'>\n",
      "RangeIndex: 57 entries, 0 to 56\n",
      "Data columns (total 9 columns):\n",
      " #   Column     Non-Null Count  Dtype \n",
      "---  ------     --------------  ----- \n",
      " 0   museum_id  57 non-null     int64 \n",
      " 1   name       57 non-null     object\n",
      " 2   address    57 non-null     object\n",
      " 3   city       57 non-null     object\n",
      " 4   state      38 non-null     object\n",
      " 5   postal     50 non-null     object\n",
      " 6   country    57 non-null     object\n",
      " 7   phone      57 non-null     object\n",
      " 8   url        57 non-null     object\n",
      "dtypes: int64(1), object(8)\n",
      "memory usage: 4.1+ KB\n"
     ]
    }
   ],
   "source": [
    "museum.info()"
   ]
  },
  {
   "cell_type": "code",
   "execution_count": 147,
   "id": "fa8483d2-531a-4e51-812c-62a0368dbe4c",
   "metadata": {},
   "outputs": [
    {
     "data": {
      "text/plain": [
       "57"
      ]
     },
     "execution_count": 147,
     "metadata": {},
     "output_type": "execute_result"
    }
   ],
   "source": [
    "museum.to_sql(name=\"museum\", con=connection, if_exists=\"replace\", index=False)"
   ]
  },
  {
   "cell_type": "markdown",
   "id": "4abc06dc-e193-4a7b-b98a-be9554a4f512",
   "metadata": {},
   "source": [
    "<h4>Loading <code>museum_hours</code> csv, checking basic informations and loading in postgreSQL database</h4>"
   ]
  },
  {
   "cell_type": "code",
   "execution_count": 187,
   "id": "5d6c36ab-b9e7-4df3-bd5d-cfb332962580",
   "metadata": {},
   "outputs": [
    {
     "data": {
      "text/plain": [
       "(351, 4)"
      ]
     },
     "execution_count": 187,
     "metadata": {},
     "output_type": "execute_result"
    }
   ],
   "source": [
    "museum_hours = pd.read_csv(csv_files[4])\n",
    "museum_hours.shape"
   ]
  },
  {
   "cell_type": "code",
   "execution_count": 188,
   "id": "4d263aa8-5f37-4124-a6ef-dd08f74569aa",
   "metadata": {},
   "outputs": [
    {
     "data": {
      "text/html": [
       "<div>\n",
       "<style scoped>\n",
       "    .dataframe tbody tr th:only-of-type {\n",
       "        vertical-align: middle;\n",
       "    }\n",
       "\n",
       "    .dataframe tbody tr th {\n",
       "        vertical-align: top;\n",
       "    }\n",
       "\n",
       "    .dataframe thead th {\n",
       "        text-align: right;\n",
       "    }\n",
       "</style>\n",
       "<table border=\"1\" class=\"dataframe\">\n",
       "  <thead>\n",
       "    <tr style=\"text-align: right;\">\n",
       "      <th></th>\n",
       "      <th>museum_id</th>\n",
       "      <th>day</th>\n",
       "      <th>open</th>\n",
       "      <th>close</th>\n",
       "    </tr>\n",
       "  </thead>\n",
       "  <tbody>\n",
       "    <tr>\n",
       "      <th>0</th>\n",
       "      <td>30</td>\n",
       "      <td>Sunday</td>\n",
       "      <td>10:30:AM</td>\n",
       "      <td>05:30:PM</td>\n",
       "    </tr>\n",
       "    <tr>\n",
       "      <th>1</th>\n",
       "      <td>30</td>\n",
       "      <td>Monday</td>\n",
       "      <td>10:30:AM</td>\n",
       "      <td>05:30:PM</td>\n",
       "    </tr>\n",
       "  </tbody>\n",
       "</table>\n",
       "</div>"
      ],
      "text/plain": [
       "   museum_id     day      open     close\n",
       "0         30  Sunday  10:30:AM  05:30:PM\n",
       "1         30  Monday  10:30:AM  05:30:PM"
      ]
     },
     "execution_count": 188,
     "metadata": {},
     "output_type": "execute_result"
    }
   ],
   "source": [
    "museum_hours.head(2)"
   ]
  },
  {
   "cell_type": "code",
   "execution_count": 189,
   "id": "4ffc0f17-9d6b-41b8-adff-c1a6e625e76e",
   "metadata": {},
   "outputs": [
    {
     "name": "stdout",
     "output_type": "stream",
     "text": [
      "<class 'pandas.core.frame.DataFrame'>\n",
      "RangeIndex: 351 entries, 0 to 350\n",
      "Data columns (total 4 columns):\n",
      " #   Column     Non-Null Count  Dtype \n",
      "---  ------     --------------  ----- \n",
      " 0   museum_id  351 non-null    int64 \n",
      " 1   day        351 non-null    object\n",
      " 2   open       351 non-null    object\n",
      " 3   close      351 non-null    object\n",
      "dtypes: int64(1), object(3)\n",
      "memory usage: 11.1+ KB\n"
     ]
    }
   ],
   "source": [
    "museum_hours.info()"
   ]
  },
  {
   "cell_type": "code",
   "execution_count": 190,
   "id": "4e3656c0-8375-47eb-a611-887d2dd8cfa4",
   "metadata": {},
   "outputs": [
    {
     "data": {
      "text/plain": [
       "array(['10:30:AM', '11:00:AM', '10:00:AM', '09:30:AM', '09:00:AM',\n",
       "       '04:00:PM', '01:00:PM', '12:30:PM', '11:30:AM', '08:15:AM',\n",
       "       '12:00:PM'], dtype=object)"
      ]
     },
     "execution_count": 190,
     "metadata": {},
     "output_type": "execute_result"
    }
   ],
   "source": [
    "museum_hours[\"open\"].unique()"
   ]
  },
  {
   "cell_type": "code",
   "execution_count": 191,
   "id": "d7724a21-0400-4afd-b188-fd8d581dcb73",
   "metadata": {},
   "outputs": [
    {
     "data": {
      "text/plain": [
       "array(['05:30:PM', '07:00:PM', '06:00:PM', '05:00:PM', '08:00:PM',\n",
       "       '09:00:PM', '06:30:PM', '09:45:PM', '02:00:PM', '04:00:PM',\n",
       "       '05:15:PM', '08:45:PM', '04:30:PM', '03:30:PM', '08 :00:PM'],\n",
       "      dtype=object)"
      ]
     },
     "execution_count": 191,
     "metadata": {},
     "output_type": "execute_result"
    }
   ],
   "source": [
    "museum_hours[\"close\"].unique()"
   ]
  },
  {
   "cell_type": "code",
   "execution_count": 192,
   "id": "910ace9c-0874-453d-a526-0f84042c9da6",
   "metadata": {},
   "outputs": [
    {
     "name": "stderr",
     "output_type": "stream",
     "text": [
      "C:\\Users\\ikram\\AppData\\Local\\Temp\\ipykernel_8436\\819222061.py:1: FutureWarning: A value is trying to be set on a copy of a DataFrame or Series through chained assignment using an inplace method.\n",
      "The behavior will change in pandas 3.0. This inplace method will never work because the intermediate object on which we are setting values always behaves as a copy.\n",
      "\n",
      "For example, when doing 'df[col].method(value, inplace=True)', try using 'df.method({col: value}, inplace=True)' or df[col] = df[col].method(value) instead, to perform the operation inplace on the original object.\n",
      "\n",
      "\n",
      "  museum_hours[\"close\"].replace({\"08 :00:PM\": \"08:00:PM\"}, inplace=True)\n"
     ]
    }
   ],
   "source": [
    "museum_hours[\"close\"].replace({\"08 :00:PM\": \"08:00:PM\"}, inplace=True)"
   ]
  },
  {
   "cell_type": "code",
   "execution_count": 193,
   "id": "14ee2906-370e-4ee1-aab8-d392a1150e66",
   "metadata": {},
   "outputs": [
    {
     "data": {
      "text/plain": [
       "351"
      ]
     },
     "execution_count": 193,
     "metadata": {},
     "output_type": "execute_result"
    }
   ],
   "source": [
    "museum_hours.to_sql(name=\"museum_hours\", con=connection, if_exists=\"replace\", index=False)"
   ]
  },
  {
   "cell_type": "markdown",
   "id": "303cf7ba-7b61-47d5-9b6a-e15943bf3c18",
   "metadata": {},
   "source": [
    "<h4>Loading <code>product_size</code> csv, checking basic informations and loading in postgreSQL database</h4>"
   ]
  },
  {
   "cell_type": "code",
   "execution_count": 207,
   "id": "2681bbe7-976e-4bd1-86fd-c5923f6e0b3e",
   "metadata": {},
   "outputs": [
    {
     "data": {
      "text/plain": [
       "(110347, 4)"
      ]
     },
     "execution_count": 207,
     "metadata": {},
     "output_type": "execute_result"
    }
   ],
   "source": [
    "product_size = pd.read_csv(csv_files[5])\n",
    "product_size.shape"
   ]
  },
  {
   "cell_type": "code",
   "execution_count": 208,
   "id": "20f8fc8e-87e6-4597-baff-40bfb9c0618f",
   "metadata": {},
   "outputs": [
    {
     "data": {
      "text/html": [
       "<div>\n",
       "<style scoped>\n",
       "    .dataframe tbody tr th:only-of-type {\n",
       "        vertical-align: middle;\n",
       "    }\n",
       "\n",
       "    .dataframe tbody tr th {\n",
       "        vertical-align: top;\n",
       "    }\n",
       "\n",
       "    .dataframe thead th {\n",
       "        text-align: right;\n",
       "    }\n",
       "</style>\n",
       "<table border=\"1\" class=\"dataframe\">\n",
       "  <thead>\n",
       "    <tr style=\"text-align: right;\">\n",
       "      <th></th>\n",
       "      <th>work_id</th>\n",
       "      <th>size_id</th>\n",
       "      <th>sale_price</th>\n",
       "      <th>regular_price</th>\n",
       "    </tr>\n",
       "  </thead>\n",
       "  <tbody>\n",
       "    <tr>\n",
       "      <th>0</th>\n",
       "      <td>160228</td>\n",
       "      <td>24</td>\n",
       "      <td>85</td>\n",
       "      <td>85</td>\n",
       "    </tr>\n",
       "    <tr>\n",
       "      <th>1</th>\n",
       "      <td>160228</td>\n",
       "      <td>30</td>\n",
       "      <td>95</td>\n",
       "      <td>95</td>\n",
       "    </tr>\n",
       "  </tbody>\n",
       "</table>\n",
       "</div>"
      ],
      "text/plain": [
       "   work_id size_id  sale_price  regular_price\n",
       "0   160228      24          85             85\n",
       "1   160228      30          95             95"
      ]
     },
     "execution_count": 208,
     "metadata": {},
     "output_type": "execute_result"
    }
   ],
   "source": [
    "product_size.head(2)"
   ]
  },
  {
   "cell_type": "code",
   "execution_count": 209,
   "id": "b9c7f2c3-b376-4d34-97ae-bca05b1a51ba",
   "metadata": {},
   "outputs": [
    {
     "name": "stdout",
     "output_type": "stream",
     "text": [
      "<class 'pandas.core.frame.DataFrame'>\n",
      "RangeIndex: 110347 entries, 0 to 110346\n",
      "Data columns (total 4 columns):\n",
      " #   Column         Non-Null Count   Dtype \n",
      "---  ------         --------------   ----- \n",
      " 0   work_id        110347 non-null  int64 \n",
      " 1   size_id        110347 non-null  object\n",
      " 2   sale_price     110347 non-null  int64 \n",
      " 3   regular_price  110347 non-null  int64 \n",
      "dtypes: int64(3), object(1)\n",
      "memory usage: 3.4+ MB\n"
     ]
    }
   ],
   "source": [
    "product_size.info()"
   ]
  },
  {
   "cell_type": "code",
   "execution_count": 213,
   "id": "c8d6bf6e-b74d-4c79-a9d4-4546df520892",
   "metadata": {},
   "outputs": [],
   "source": [
    "product_size[\"size_id\"] = pd.to_numeric(product_size[\"size_id\"], errors='coerce')"
   ]
  },
  {
   "cell_type": "code",
   "execution_count": 214,
   "id": "79d784c9-a8a0-4beb-8596-260452ba4d36",
   "metadata": {},
   "outputs": [
    {
     "name": "stdout",
     "output_type": "stream",
     "text": [
      "<class 'pandas.core.frame.DataFrame'>\n",
      "RangeIndex: 110347 entries, 0 to 110346\n",
      "Data columns (total 4 columns):\n",
      " #   Column         Non-Null Count   Dtype  \n",
      "---  ------         --------------   -----  \n",
      " 0   work_id        110347 non-null  int64  \n",
      " 1   size_id        110135 non-null  float64\n",
      " 2   sale_price     110347 non-null  int64  \n",
      " 3   regular_price  110347 non-null  int64  \n",
      "dtypes: float64(1), int64(3)\n",
      "memory usage: 3.4 MB\n"
     ]
    }
   ],
   "source": [
    "product_size.info()"
   ]
  },
  {
   "cell_type": "code",
   "execution_count": 215,
   "id": "e687d946-2c7a-4c87-a61c-a3ea61384045",
   "metadata": {},
   "outputs": [
    {
     "data": {
      "text/plain": [
       "347"
      ]
     },
     "execution_count": 215,
     "metadata": {},
     "output_type": "execute_result"
    }
   ],
   "source": [
    "product_size.to_sql(name=\"product_size\", con=connection, if_exists=\"replace\", index=False)"
   ]
  },
  {
   "cell_type": "markdown",
   "id": "a78d4b36-cbbf-4273-96a7-96350c5c1643",
   "metadata": {},
   "source": [
    "<h4>Loading <code>subject</code> csv, checking basic informations and loading in postgreSQL database</h4>"
   ]
  },
  {
   "cell_type": "code",
   "execution_count": 216,
   "id": "b181cdfd-6f81-4aa1-bac7-6ec71edeb91a",
   "metadata": {},
   "outputs": [
    {
     "data": {
      "text/plain": [
       "(6771, 2)"
      ]
     },
     "execution_count": 216,
     "metadata": {},
     "output_type": "execute_result"
    }
   ],
   "source": [
    "subject = pd.read_csv(csv_files[6])\n",
    "subject.shape"
   ]
  },
  {
   "cell_type": "code",
   "execution_count": 217,
   "id": "0d28b727-e6f7-465c-b185-2cdc162b6f22",
   "metadata": {},
   "outputs": [
    {
     "data": {
      "text/html": [
       "<div>\n",
       "<style scoped>\n",
       "    .dataframe tbody tr th:only-of-type {\n",
       "        vertical-align: middle;\n",
       "    }\n",
       "\n",
       "    .dataframe tbody tr th {\n",
       "        vertical-align: top;\n",
       "    }\n",
       "\n",
       "    .dataframe thead th {\n",
       "        text-align: right;\n",
       "    }\n",
       "</style>\n",
       "<table border=\"1\" class=\"dataframe\">\n",
       "  <thead>\n",
       "    <tr style=\"text-align: right;\">\n",
       "      <th></th>\n",
       "      <th>work_id</th>\n",
       "      <th>subject</th>\n",
       "    </tr>\n",
       "  </thead>\n",
       "  <tbody>\n",
       "    <tr>\n",
       "      <th>0</th>\n",
       "      <td>160228</td>\n",
       "      <td>Still-Life</td>\n",
       "    </tr>\n",
       "    <tr>\n",
       "      <th>1</th>\n",
       "      <td>160236</td>\n",
       "      <td>Still-Life</td>\n",
       "    </tr>\n",
       "  </tbody>\n",
       "</table>\n",
       "</div>"
      ],
      "text/plain": [
       "   work_id     subject\n",
       "0   160228  Still-Life\n",
       "1   160236  Still-Life"
      ]
     },
     "execution_count": 217,
     "metadata": {},
     "output_type": "execute_result"
    }
   ],
   "source": [
    "subject.head(2)"
   ]
  },
  {
   "cell_type": "code",
   "execution_count": 218,
   "id": "6a74ac14-f265-411f-8485-3801c08cb432",
   "metadata": {},
   "outputs": [
    {
     "name": "stdout",
     "output_type": "stream",
     "text": [
      "<class 'pandas.core.frame.DataFrame'>\n",
      "RangeIndex: 6771 entries, 0 to 6770\n",
      "Data columns (total 2 columns):\n",
      " #   Column   Non-Null Count  Dtype \n",
      "---  ------   --------------  ----- \n",
      " 0   work_id  6771 non-null   int64 \n",
      " 1   subject  6771 non-null   object\n",
      "dtypes: int64(1), object(1)\n",
      "memory usage: 105.9+ KB\n"
     ]
    }
   ],
   "source": [
    "subject.info()"
   ]
  },
  {
   "cell_type": "code",
   "execution_count": 219,
   "id": "cef3aeae-5d5f-4a52-bee3-e158499f47ee",
   "metadata": {},
   "outputs": [
    {
     "data": {
      "text/plain": [
       "771"
      ]
     },
     "execution_count": 219,
     "metadata": {},
     "output_type": "execute_result"
    }
   ],
   "source": [
    "subject.to_sql(name=\"subject\", con=connection, if_exists=\"replace\", index=False)"
   ]
  },
  {
   "cell_type": "markdown",
   "id": "8bf61a86-8cc7-4305-8f75-6dd32aec7cd6",
   "metadata": {},
   "source": [
    "<h4>Loading <code>work</code> csv, checking basic informations and loading in postgreSQL database</h4>"
   ]
  },
  {
   "cell_type": "code",
   "execution_count": 220,
   "id": "170b11db-f617-476e-a68d-bc5cdd36c443",
   "metadata": {},
   "outputs": [
    {
     "data": {
      "text/plain": [
       "(14776, 5)"
      ]
     },
     "execution_count": 220,
     "metadata": {},
     "output_type": "execute_result"
    }
   ],
   "source": [
    "work = pd.read_csv(csv_files[7])\n",
    "work.shape"
   ]
  },
  {
   "cell_type": "code",
   "execution_count": 221,
   "id": "6951f5cf-96a0-4b2a-903e-cbd412ce8d54",
   "metadata": {},
   "outputs": [
    {
     "data": {
      "text/html": [
       "<div>\n",
       "<style scoped>\n",
       "    .dataframe tbody tr th:only-of-type {\n",
       "        vertical-align: middle;\n",
       "    }\n",
       "\n",
       "    .dataframe tbody tr th {\n",
       "        vertical-align: top;\n",
       "    }\n",
       "\n",
       "    .dataframe thead th {\n",
       "        text-align: right;\n",
       "    }\n",
       "</style>\n",
       "<table border=\"1\" class=\"dataframe\">\n",
       "  <thead>\n",
       "    <tr style=\"text-align: right;\">\n",
       "      <th></th>\n",
       "      <th>work_id</th>\n",
       "      <th>name</th>\n",
       "      <th>artist_id</th>\n",
       "      <th>style</th>\n",
       "      <th>museum_id</th>\n",
       "    </tr>\n",
       "  </thead>\n",
       "  <tbody>\n",
       "    <tr>\n",
       "      <th>0</th>\n",
       "      <td>160228</td>\n",
       "      <td>Still Life with Flowers and a Watch</td>\n",
       "      <td>615</td>\n",
       "      <td>Baroque</td>\n",
       "      <td>43.0</td>\n",
       "    </tr>\n",
       "    <tr>\n",
       "      <th>1</th>\n",
       "      <td>160236</td>\n",
       "      <td>Still Life with Fruit and a Beaker on a Cock's...</td>\n",
       "      <td>615</td>\n",
       "      <td>Baroque</td>\n",
       "      <td>43.0</td>\n",
       "    </tr>\n",
       "  </tbody>\n",
       "</table>\n",
       "</div>"
      ],
      "text/plain": [
       "   work_id                                               name  artist_id  \\\n",
       "0   160228                Still Life with Flowers and a Watch        615   \n",
       "1   160236  Still Life with Fruit and a Beaker on a Cock's...        615   \n",
       "\n",
       "     style  museum_id  \n",
       "0  Baroque       43.0  \n",
       "1  Baroque       43.0  "
      ]
     },
     "execution_count": 221,
     "metadata": {},
     "output_type": "execute_result"
    }
   ],
   "source": [
    "work.head(2)"
   ]
  },
  {
   "cell_type": "code",
   "execution_count": 222,
   "id": "49a9998d-b6ab-4dd0-be1a-6d9ed7c3ec65",
   "metadata": {},
   "outputs": [
    {
     "name": "stdout",
     "output_type": "stream",
     "text": [
      "<class 'pandas.core.frame.DataFrame'>\n",
      "RangeIndex: 14776 entries, 0 to 14775\n",
      "Data columns (total 5 columns):\n",
      " #   Column     Non-Null Count  Dtype  \n",
      "---  ------     --------------  -----  \n",
      " 0   work_id    14776 non-null  int64  \n",
      " 1   name       14776 non-null  object \n",
      " 2   artist_id  14776 non-null  int64  \n",
      " 3   style      13490 non-null  object \n",
      " 4   museum_id  4553 non-null   float64\n",
      "dtypes: float64(1), int64(2), object(2)\n",
      "memory usage: 577.3+ KB\n"
     ]
    }
   ],
   "source": [
    "work.info()"
   ]
  },
  {
   "cell_type": "code",
   "execution_count": 223,
   "id": "bcec66a1-7914-44a8-a942-4e12453a699a",
   "metadata": {},
   "outputs": [
    {
     "data": {
      "text/plain": [
       "776"
      ]
     },
     "execution_count": 223,
     "metadata": {},
     "output_type": "execute_result"
    }
   ],
   "source": [
    "work.to_sql(name=\"work\", con=connection, if_exists=\"replace\", index=False)"
   ]
  },
  {
   "cell_type": "code",
   "execution_count": null,
   "id": "e7d657d5-85ef-42e7-86cc-883fc4f8057a",
   "metadata": {},
   "outputs": [],
   "source": []
  }
 ],
 "metadata": {
  "kernelspec": {
   "display_name": "Python 3 (ipykernel)",
   "language": "python",
   "name": "python3"
  },
  "language_info": {
   "codemirror_mode": {
    "name": "ipython",
    "version": 3
   },
   "file_extension": ".py",
   "mimetype": "text/x-python",
   "name": "python",
   "nbconvert_exporter": "python",
   "pygments_lexer": "ipython3",
   "version": "3.10.6"
  }
 },
 "nbformat": 4,
 "nbformat_minor": 5
}
